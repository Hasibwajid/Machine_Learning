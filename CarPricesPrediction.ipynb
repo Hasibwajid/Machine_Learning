{
  "cells": [
    {
      "cell_type": "code",
      "execution_count": null,
      "id": "dbd7dccf",
      "metadata": {
        "id": "dbd7dccf",
        "outputId": "0818f1e5-9794-4552-eed3-8fc749e6ecb3"
      },
      "outputs": [
        {
          "data": {
            "text/html": [
              "<div>\n",
              "<style scoped>\n",
              "    .dataframe tbody tr th:only-of-type {\n",
              "        vertical-align: middle;\n",
              "    }\n",
              "\n",
              "    .dataframe tbody tr th {\n",
              "        vertical-align: top;\n",
              "    }\n",
              "\n",
              "    .dataframe thead th {\n",
              "        text-align: right;\n",
              "    }\n",
              "</style>\n",
              "<table border=\"1\" class=\"dataframe\">\n",
              "  <thead>\n",
              "    <tr style=\"text-align: right;\">\n",
              "      <th></th>\n",
              "      <th>Car Model</th>\n",
              "      <th>Mileage</th>\n",
              "      <th>Sell Price($)</th>\n",
              "      <th>Age(yrs)</th>\n",
              "    </tr>\n",
              "  </thead>\n",
              "  <tbody>\n",
              "    <tr>\n",
              "      <th>0</th>\n",
              "      <td>BMW X5</td>\n",
              "      <td>69000</td>\n",
              "      <td>18000</td>\n",
              "      <td>6</td>\n",
              "    </tr>\n",
              "    <tr>\n",
              "      <th>1</th>\n",
              "      <td>BMW X5</td>\n",
              "      <td>35000</td>\n",
              "      <td>34000</td>\n",
              "      <td>3</td>\n",
              "    </tr>\n",
              "    <tr>\n",
              "      <th>2</th>\n",
              "      <td>BMW X5</td>\n",
              "      <td>57000</td>\n",
              "      <td>26100</td>\n",
              "      <td>5</td>\n",
              "    </tr>\n",
              "    <tr>\n",
              "      <th>3</th>\n",
              "      <td>BMW X5</td>\n",
              "      <td>22500</td>\n",
              "      <td>40000</td>\n",
              "      <td>2</td>\n",
              "    </tr>\n",
              "    <tr>\n",
              "      <th>4</th>\n",
              "      <td>BMW X5</td>\n",
              "      <td>46000</td>\n",
              "      <td>31500</td>\n",
              "      <td>4</td>\n",
              "    </tr>\n",
              "    <tr>\n",
              "      <th>5</th>\n",
              "      <td>Audi A5</td>\n",
              "      <td>59000</td>\n",
              "      <td>29400</td>\n",
              "      <td>5</td>\n",
              "    </tr>\n",
              "    <tr>\n",
              "      <th>6</th>\n",
              "      <td>Audi A5</td>\n",
              "      <td>52000</td>\n",
              "      <td>32000</td>\n",
              "      <td>5</td>\n",
              "    </tr>\n",
              "    <tr>\n",
              "      <th>7</th>\n",
              "      <td>Audi A5</td>\n",
              "      <td>72000</td>\n",
              "      <td>19300</td>\n",
              "      <td>6</td>\n",
              "    </tr>\n",
              "    <tr>\n",
              "      <th>8</th>\n",
              "      <td>Audi A5</td>\n",
              "      <td>91000</td>\n",
              "      <td>12000</td>\n",
              "      <td>8</td>\n",
              "    </tr>\n",
              "    <tr>\n",
              "      <th>9</th>\n",
              "      <td>Mercedez Benz C class</td>\n",
              "      <td>67000</td>\n",
              "      <td>22000</td>\n",
              "      <td>6</td>\n",
              "    </tr>\n",
              "    <tr>\n",
              "      <th>10</th>\n",
              "      <td>Mercedez Benz C class</td>\n",
              "      <td>83000</td>\n",
              "      <td>20000</td>\n",
              "      <td>7</td>\n",
              "    </tr>\n",
              "    <tr>\n",
              "      <th>11</th>\n",
              "      <td>Mercedez Benz C class</td>\n",
              "      <td>79000</td>\n",
              "      <td>21000</td>\n",
              "      <td>7</td>\n",
              "    </tr>\n",
              "    <tr>\n",
              "      <th>12</th>\n",
              "      <td>Mercedez Benz C class</td>\n",
              "      <td>59000</td>\n",
              "      <td>33000</td>\n",
              "      <td>5</td>\n",
              "    </tr>\n",
              "  </tbody>\n",
              "</table>\n",
              "</div>"
            ],
            "text/plain": [
              "                Car Model  Mileage  Sell Price($)  Age(yrs)\n",
              "0                  BMW X5    69000          18000         6\n",
              "1                  BMW X5    35000          34000         3\n",
              "2                  BMW X5    57000          26100         5\n",
              "3                  BMW X5    22500          40000         2\n",
              "4                  BMW X5    46000          31500         4\n",
              "5                 Audi A5    59000          29400         5\n",
              "6                 Audi A5    52000          32000         5\n",
              "7                 Audi A5    72000          19300         6\n",
              "8                 Audi A5    91000          12000         8\n",
              "9   Mercedez Benz C class    67000          22000         6\n",
              "10  Mercedez Benz C class    83000          20000         7\n",
              "11  Mercedez Benz C class    79000          21000         7\n",
              "12  Mercedez Benz C class    59000          33000         5"
            ]
          },
          "execution_count": 2,
          "metadata": {},
          "output_type": "execute_result"
        }
      ],
      "source": [
        "import pandas as pd\n",
        "df = pd.read_csv(\"carprices.csv\")\n",
        "df"
      ]
    },
    {
      "cell_type": "markdown",
      "id": "70668f19",
      "metadata": {
        "id": "70668f19"
      },
      "source": [
        "# GETTING DUMMIES FOR MODEL COLUMN"
      ]
    },
    {
      "cell_type": "code",
      "execution_count": null,
      "id": "728e4047",
      "metadata": {
        "id": "728e4047",
        "outputId": "5de852f3-1484-4e7c-d90c-6408c617c194"
      },
      "outputs": [
        {
          "data": {
            "text/html": [
              "<div>\n",
              "<style scoped>\n",
              "    .dataframe tbody tr th:only-of-type {\n",
              "        vertical-align: middle;\n",
              "    }\n",
              "\n",
              "    .dataframe tbody tr th {\n",
              "        vertical-align: top;\n",
              "    }\n",
              "\n",
              "    .dataframe thead th {\n",
              "        text-align: right;\n",
              "    }\n",
              "</style>\n",
              "<table border=\"1\" class=\"dataframe\">\n",
              "  <thead>\n",
              "    <tr style=\"text-align: right;\">\n",
              "      <th></th>\n",
              "      <th>Audi A5</th>\n",
              "      <th>BMW X5</th>\n",
              "      <th>Mercedez Benz C class</th>\n",
              "    </tr>\n",
              "  </thead>\n",
              "  <tbody>\n",
              "    <tr>\n",
              "      <th>0</th>\n",
              "      <td>0</td>\n",
              "      <td>1</td>\n",
              "      <td>0</td>\n",
              "    </tr>\n",
              "    <tr>\n",
              "      <th>1</th>\n",
              "      <td>0</td>\n",
              "      <td>1</td>\n",
              "      <td>0</td>\n",
              "    </tr>\n",
              "    <tr>\n",
              "      <th>2</th>\n",
              "      <td>0</td>\n",
              "      <td>1</td>\n",
              "      <td>0</td>\n",
              "    </tr>\n",
              "    <tr>\n",
              "      <th>3</th>\n",
              "      <td>0</td>\n",
              "      <td>1</td>\n",
              "      <td>0</td>\n",
              "    </tr>\n",
              "    <tr>\n",
              "      <th>4</th>\n",
              "      <td>0</td>\n",
              "      <td>1</td>\n",
              "      <td>0</td>\n",
              "    </tr>\n",
              "    <tr>\n",
              "      <th>5</th>\n",
              "      <td>1</td>\n",
              "      <td>0</td>\n",
              "      <td>0</td>\n",
              "    </tr>\n",
              "    <tr>\n",
              "      <th>6</th>\n",
              "      <td>1</td>\n",
              "      <td>0</td>\n",
              "      <td>0</td>\n",
              "    </tr>\n",
              "    <tr>\n",
              "      <th>7</th>\n",
              "      <td>1</td>\n",
              "      <td>0</td>\n",
              "      <td>0</td>\n",
              "    </tr>\n",
              "    <tr>\n",
              "      <th>8</th>\n",
              "      <td>1</td>\n",
              "      <td>0</td>\n",
              "      <td>0</td>\n",
              "    </tr>\n",
              "    <tr>\n",
              "      <th>9</th>\n",
              "      <td>0</td>\n",
              "      <td>0</td>\n",
              "      <td>1</td>\n",
              "    </tr>\n",
              "    <tr>\n",
              "      <th>10</th>\n",
              "      <td>0</td>\n",
              "      <td>0</td>\n",
              "      <td>1</td>\n",
              "    </tr>\n",
              "    <tr>\n",
              "      <th>11</th>\n",
              "      <td>0</td>\n",
              "      <td>0</td>\n",
              "      <td>1</td>\n",
              "    </tr>\n",
              "    <tr>\n",
              "      <th>12</th>\n",
              "      <td>0</td>\n",
              "      <td>0</td>\n",
              "      <td>1</td>\n",
              "    </tr>\n",
              "  </tbody>\n",
              "</table>\n",
              "</div>"
            ],
            "text/plain": [
              "    Audi A5  BMW X5  Mercedez Benz C class\n",
              "0         0       1                      0\n",
              "1         0       1                      0\n",
              "2         0       1                      0\n",
              "3         0       1                      0\n",
              "4         0       1                      0\n",
              "5         1       0                      0\n",
              "6         1       0                      0\n",
              "7         1       0                      0\n",
              "8         1       0                      0\n",
              "9         0       0                      1\n",
              "10        0       0                      1\n",
              "11        0       0                      1\n",
              "12        0       0                      1"
            ]
          },
          "execution_count": 3,
          "metadata": {},
          "output_type": "execute_result"
        }
      ],
      "source": [
        "dummies = pd.get_dummies(df['Car Model'])\n",
        "dummies"
      ]
    },
    {
      "cell_type": "markdown",
      "id": "5defcee6",
      "metadata": {
        "id": "5defcee6"
      },
      "source": [
        "# CONCATING DUMMIES WITH OUR DATA FRAME"
      ]
    },
    {
      "cell_type": "code",
      "execution_count": null,
      "id": "b40000fb",
      "metadata": {
        "id": "b40000fb"
      },
      "outputs": [],
      "source": [
        "df_dummies = pd.concat([df,dummies], axis =\"columns\")"
      ]
    },
    {
      "cell_type": "code",
      "execution_count": null,
      "id": "a5a20cdc",
      "metadata": {
        "id": "a5a20cdc",
        "outputId": "8e0a9d89-128c-4593-93bd-327bd676d19d"
      },
      "outputs": [
        {
          "data": {
            "text/html": [
              "<div>\n",
              "<style scoped>\n",
              "    .dataframe tbody tr th:only-of-type {\n",
              "        vertical-align: middle;\n",
              "    }\n",
              "\n",
              "    .dataframe tbody tr th {\n",
              "        vertical-align: top;\n",
              "    }\n",
              "\n",
              "    .dataframe thead th {\n",
              "        text-align: right;\n",
              "    }\n",
              "</style>\n",
              "<table border=\"1\" class=\"dataframe\">\n",
              "  <thead>\n",
              "    <tr style=\"text-align: right;\">\n",
              "      <th></th>\n",
              "      <th>Car Model</th>\n",
              "      <th>Mileage</th>\n",
              "      <th>Sell Price($)</th>\n",
              "      <th>Age(yrs)</th>\n",
              "      <th>Audi A5</th>\n",
              "      <th>BMW X5</th>\n",
              "      <th>Mercedez Benz C class</th>\n",
              "    </tr>\n",
              "  </thead>\n",
              "  <tbody>\n",
              "    <tr>\n",
              "      <th>0</th>\n",
              "      <td>BMW X5</td>\n",
              "      <td>69000</td>\n",
              "      <td>18000</td>\n",
              "      <td>6</td>\n",
              "      <td>0</td>\n",
              "      <td>1</td>\n",
              "      <td>0</td>\n",
              "    </tr>\n",
              "    <tr>\n",
              "      <th>1</th>\n",
              "      <td>BMW X5</td>\n",
              "      <td>35000</td>\n",
              "      <td>34000</td>\n",
              "      <td>3</td>\n",
              "      <td>0</td>\n",
              "      <td>1</td>\n",
              "      <td>0</td>\n",
              "    </tr>\n",
              "    <tr>\n",
              "      <th>2</th>\n",
              "      <td>BMW X5</td>\n",
              "      <td>57000</td>\n",
              "      <td>26100</td>\n",
              "      <td>5</td>\n",
              "      <td>0</td>\n",
              "      <td>1</td>\n",
              "      <td>0</td>\n",
              "    </tr>\n",
              "    <tr>\n",
              "      <th>3</th>\n",
              "      <td>BMW X5</td>\n",
              "      <td>22500</td>\n",
              "      <td>40000</td>\n",
              "      <td>2</td>\n",
              "      <td>0</td>\n",
              "      <td>1</td>\n",
              "      <td>0</td>\n",
              "    </tr>\n",
              "    <tr>\n",
              "      <th>4</th>\n",
              "      <td>BMW X5</td>\n",
              "      <td>46000</td>\n",
              "      <td>31500</td>\n",
              "      <td>4</td>\n",
              "      <td>0</td>\n",
              "      <td>1</td>\n",
              "      <td>0</td>\n",
              "    </tr>\n",
              "    <tr>\n",
              "      <th>5</th>\n",
              "      <td>Audi A5</td>\n",
              "      <td>59000</td>\n",
              "      <td>29400</td>\n",
              "      <td>5</td>\n",
              "      <td>1</td>\n",
              "      <td>0</td>\n",
              "      <td>0</td>\n",
              "    </tr>\n",
              "    <tr>\n",
              "      <th>6</th>\n",
              "      <td>Audi A5</td>\n",
              "      <td>52000</td>\n",
              "      <td>32000</td>\n",
              "      <td>5</td>\n",
              "      <td>1</td>\n",
              "      <td>0</td>\n",
              "      <td>0</td>\n",
              "    </tr>\n",
              "    <tr>\n",
              "      <th>7</th>\n",
              "      <td>Audi A5</td>\n",
              "      <td>72000</td>\n",
              "      <td>19300</td>\n",
              "      <td>6</td>\n",
              "      <td>1</td>\n",
              "      <td>0</td>\n",
              "      <td>0</td>\n",
              "    </tr>\n",
              "    <tr>\n",
              "      <th>8</th>\n",
              "      <td>Audi A5</td>\n",
              "      <td>91000</td>\n",
              "      <td>12000</td>\n",
              "      <td>8</td>\n",
              "      <td>1</td>\n",
              "      <td>0</td>\n",
              "      <td>0</td>\n",
              "    </tr>\n",
              "    <tr>\n",
              "      <th>9</th>\n",
              "      <td>Mercedez Benz C class</td>\n",
              "      <td>67000</td>\n",
              "      <td>22000</td>\n",
              "      <td>6</td>\n",
              "      <td>0</td>\n",
              "      <td>0</td>\n",
              "      <td>1</td>\n",
              "    </tr>\n",
              "    <tr>\n",
              "      <th>10</th>\n",
              "      <td>Mercedez Benz C class</td>\n",
              "      <td>83000</td>\n",
              "      <td>20000</td>\n",
              "      <td>7</td>\n",
              "      <td>0</td>\n",
              "      <td>0</td>\n",
              "      <td>1</td>\n",
              "    </tr>\n",
              "    <tr>\n",
              "      <th>11</th>\n",
              "      <td>Mercedez Benz C class</td>\n",
              "      <td>79000</td>\n",
              "      <td>21000</td>\n",
              "      <td>7</td>\n",
              "      <td>0</td>\n",
              "      <td>0</td>\n",
              "      <td>1</td>\n",
              "    </tr>\n",
              "    <tr>\n",
              "      <th>12</th>\n",
              "      <td>Mercedez Benz C class</td>\n",
              "      <td>59000</td>\n",
              "      <td>33000</td>\n",
              "      <td>5</td>\n",
              "      <td>0</td>\n",
              "      <td>0</td>\n",
              "      <td>1</td>\n",
              "    </tr>\n",
              "  </tbody>\n",
              "</table>\n",
              "</div>"
            ],
            "text/plain": [
              "                Car Model  Mileage  Sell Price($)  Age(yrs)  Audi A5  BMW X5  \\\n",
              "0                  BMW X5    69000          18000         6        0       1   \n",
              "1                  BMW X5    35000          34000         3        0       1   \n",
              "2                  BMW X5    57000          26100         5        0       1   \n",
              "3                  BMW X5    22500          40000         2        0       1   \n",
              "4                  BMW X5    46000          31500         4        0       1   \n",
              "5                 Audi A5    59000          29400         5        1       0   \n",
              "6                 Audi A5    52000          32000         5        1       0   \n",
              "7                 Audi A5    72000          19300         6        1       0   \n",
              "8                 Audi A5    91000          12000         8        1       0   \n",
              "9   Mercedez Benz C class    67000          22000         6        0       0   \n",
              "10  Mercedez Benz C class    83000          20000         7        0       0   \n",
              "11  Mercedez Benz C class    79000          21000         7        0       0   \n",
              "12  Mercedez Benz C class    59000          33000         5        0       0   \n",
              "\n",
              "    Mercedez Benz C class  \n",
              "0                       0  \n",
              "1                       0  \n",
              "2                       0  \n",
              "3                       0  \n",
              "4                       0  \n",
              "5                       0  \n",
              "6                       0  \n",
              "7                       0  \n",
              "8                       0  \n",
              "9                       1  \n",
              "10                      1  \n",
              "11                      1  \n",
              "12                      1  "
            ]
          },
          "execution_count": 5,
          "metadata": {},
          "output_type": "execute_result"
        }
      ],
      "source": [
        "df_dummies"
      ]
    },
    {
      "cell_type": "markdown",
      "id": "47b1fb01",
      "metadata": {
        "id": "47b1fb01"
      },
      "source": [
        "# histogram FOR VISUAL VIEW"
      ]
    },
    {
      "cell_type": "code",
      "execution_count": null,
      "id": "61da5d4a",
      "metadata": {
        "id": "61da5d4a",
        "outputId": "7ce87e56-e090-41e1-e1d4-3017e669db4a"
      },
      "outputs": [
        {
          "data": {
            "text/plain": [
              "array([[<AxesSubplot:title={'center':'Mileage'}>,\n",
              "        <AxesSubplot:title={'center':'Sell Price($)'}>],\n",
              "       [<AxesSubplot:title={'center':'Age(yrs)'}>,\n",
              "        <AxesSubplot:title={'center':'Audi A5'}>],\n",
              "       [<AxesSubplot:title={'center':'BMW X5'}>,\n",
              "        <AxesSubplot:title={'center':'Mercedez Benz C class'}>]],\n",
              "      dtype=object)"
            ]
          },
          "execution_count": 19,
          "metadata": {},
          "output_type": "execute_result"
        },
        {
          "data": {
            "image/png": "[encoded data removed]",
            "text/plain": [
              "<Figure size 1440x1080 with 6 Axes>"
            ]
          },
          "metadata": {
            "needs_background": "light"
          },
          "output_type": "display_data"
        }
      ],
      "source": [
        "df_dummies.hist(bins=50,figsize=(20,15),color = 'red')"
      ]
    },
    {
      "cell_type": "markdown",
      "id": "47d641e2",
      "metadata": {
        "id": "47d641e2"
      },
      "source": [
        "# SCATTER MATRIX TO VIEW RELATION BTW ALL FEATURES AND LABLE"
      ]
    },
    {
      "cell_type": "code",
      "execution_count": null,
      "id": "54814373",
      "metadata": {
        "id": "54814373",
        "outputId": "f4f8ed5f-29d1-4a93-a06f-215e3397435c"
      },
      "outputs": [
        {
          "data": {
            "text/plain": [
              "array([[<AxesSubplot:xlabel='Sell Price($)', ylabel='Sell Price($)'>,\n",
              "        <AxesSubplot:xlabel='Mileage', ylabel='Sell Price($)'>,\n",
              "        <AxesSubplot:xlabel='Age(yrs)', ylabel='Sell Price($)'>,\n",
              "        <AxesSubplot:xlabel='Mercedez Benz C class', ylabel='Sell Price($)'>,\n",
              "        <AxesSubplot:xlabel='Audi A5', ylabel='Sell Price($)'>,\n",
              "        <AxesSubplot:xlabel='BMW X5', ylabel='Sell Price($)'>],\n",
              "       [<AxesSubplot:xlabel='Sell Price($)', ylabel='Mileage'>,\n",
              "        <AxesSubplot:xlabel='Mileage', ylabel='Mileage'>,\n",
              "        <AxesSubplot:xlabel='Age(yrs)', ylabel='Mileage'>,\n",
              "        <AxesSubplot:xlabel='Mercedez Benz C class', ylabel='Mileage'>,\n",
              "        <AxesSubplot:xlabel='Audi A5', ylabel='Mileage'>,\n",
              "        <AxesSubplot:xlabel='BMW X5', ylabel='Mileage'>],\n",
              "       [<AxesSubplot:xlabel='Sell Price($)', ylabel='Age(yrs)'>,\n",
              "        <AxesSubplot:xlabel='Mileage', ylabel='Age(yrs)'>,\n",
              "        <AxesSubplot:xlabel='Age(yrs)', ylabel='Age(yrs)'>,\n",
              "        <AxesSubplot:xlabel='Mercedez Benz C class', ylabel='Age(yrs)'>,\n",
              "        <AxesSubplot:xlabel='Audi A5', ylabel='Age(yrs)'>,\n",
              "        <AxesSubplot:xlabel='BMW X5', ylabel='Age(yrs)'>],\n",
              "       [<AxesSubplot:xlabel='Sell Price($)', ylabel='Mercedez Benz C class'>,\n",
              "        <AxesSubplot:xlabel='Mileage', ylabel='Mercedez Benz C class'>,\n",
              "        <AxesSubplot:xlabel='Age(yrs)', ylabel='Mercedez Benz C class'>,\n",
              "        <AxesSubplot:xlabel='Mercedez Benz C class', ylabel='Mercedez Benz C class'>,\n",
              "        <AxesSubplot:xlabel='Audi A5', ylabel='Mercedez Benz C class'>,\n",
              "        <AxesSubplot:xlabel='BMW X5', ylabel='Mercedez Benz C class'>],\n",
              "       [<AxesSubplot:xlabel='Sell Price($)', ylabel='Audi A5'>,\n",
              "        <AxesSubplot:xlabel='Mileage', ylabel='Audi A5'>,\n",
              "        <AxesSubplot:xlabel='Age(yrs)', ylabel='Audi A5'>,\n",
              "        <AxesSubplot:xlabel='Mercedez Benz C class', ylabel='Audi A5'>,\n",
              "        <AxesSubplot:xlabel='Audi A5', ylabel='Audi A5'>,\n",
              "        <AxesSubplot:xlabel='BMW X5', ylabel='Audi A5'>],\n",
              "       [<AxesSubplot:xlabel='Sell Price($)', ylabel='BMW X5'>,\n",
              "        <AxesSubplot:xlabel='Mileage', ylabel='BMW X5'>,\n",
              "        <AxesSubplot:xlabel='Age(yrs)', ylabel='BMW X5'>,\n",
              "        <AxesSubplot:xlabel='Mercedez Benz C class', ylabel='BMW X5'>,\n",
              "        <AxesSubplot:xlabel='Audi A5', ylabel='BMW X5'>,\n",
              "        <AxesSubplot:xlabel='BMW X5', ylabel='BMW X5'>]], dtype=object)"
            ]
          },
          "execution_count": 20,
          "metadata": {},
          "output_type": "execute_result"
        },
        {
          "data": {
            "image/png": "[encoded data removed]",
            "text/plain": [
              "<Figure size 864x576 with 36 Axes>"
            ]
          },
          "metadata": {
            "needs_background": "light"
          },
          "output_type": "display_data"
        }
      ],
      "source": [
        "from pandas.plotting import scatter_matrix\n",
        "attributes = [\"Sell Price($)\",\"Mileage\",\"Car Model\",\"Age(yrs)\",\"Mercedez Benz C class\",\"Audi A5\",\"BMW X5\"]\n",
        "scatter_matrix(df_dummies[attributes], figsize=(12,8),alpha=0.9, color='red')"
      ]
    },
    {
      "cell_type": "markdown",
      "id": "30b9f4df",
      "metadata": {
        "id": "30b9f4df"
      },
      "source": [
        "# PLOT SCATTER PLOT WITH INDVISUAL FEATURES"
      ]
    },
    {
      "cell_type": "code",
      "execution_count": null,
      "id": "124c9f34",
      "metadata": {
        "id": "124c9f34",
        "outputId": "4025a0c2-4da1-455b-cab3-c933018bee83"
      },
      "outputs": [
        {
          "data": {
            "text/plain": [
              "Text(0, 0.5, 'Sell Price($)')"
            ]
          },
          "execution_count": 21,
          "metadata": {},
          "output_type": "execute_result"
        },
        {
          "data": {
            "image/png": "[encoded data removed]",
            "text/plain": [
              "<Figure size 432x288 with 1 Axes>"
            ]
          },
          "metadata": {
            "needs_background": "light"
          },
          "output_type": "display_data"
        }
      ],
      "source": [
        "import matplotlib.pyplot as plt\n",
        "plt.scatter(df_dummies['Age(yrs)'],df_dummies['Sell Price($)'], alpha=0.9)\n",
        "plt.xlabel('Age(yrs)')\n",
        "plt.ylabel('Sell Price($)')"
      ]
    },
    {
      "cell_type": "code",
      "execution_count": null,
      "id": "2d498742",
      "metadata": {
        "id": "2d498742",
        "outputId": "1d9541d9-a4be-4ed1-97cc-ece861327954"
      },
      "outputs": [
        {
          "data": {
            "text/plain": [
              "Text(0, 0.5, 'Sell Price($)')"
            ]
          },
          "execution_count": 9,
          "metadata": {},
          "output_type": "execute_result"
        },
        {
          "data": {
            "image/png": "[encoded data removed]",
            "text/plain": [
              "<Figure size 432x288 with 1 Axes>"
            ]
          },
          "metadata": {
            "needs_background": "light"
          },
          "output_type": "display_data"
        }
      ],
      "source": [
        "plt.scatter(df_dummies['Mileage'],df_dummies['Sell Price($)'], alpha=0.9)\n",
        "plt.xlabel('Mileage')\n",
        "plt.ylabel('Sell Price($)')"
      ]
    },
    {
      "cell_type": "markdown",
      "id": "2ffae433",
      "metadata": {
        "id": "2ffae433"
      },
      "source": [
        "# SET X AND Y VALUES"
      ]
    },
    {
      "cell_type": "code",
      "execution_count": null,
      "id": "c8681bd3",
      "metadata": {
        "id": "c8681bd3"
      },
      "outputs": [],
      "source": [
        "final = df_dummies.drop(['Car Model','Mercedez Benz C class'],axis = \"columns\")"
      ]
    },
    {
      "cell_type": "code",
      "execution_count": null,
      "id": "3f4d761b",
      "metadata": {
        "id": "3f4d761b"
      },
      "outputs": [],
      "source": [
        "X = final.drop(['Sell Price($)'],axis = \"columns\").values"
      ]
    },
    {
      "cell_type": "code",
      "execution_count": null,
      "id": "5a26427d",
      "metadata": {
        "id": "5a26427d",
        "outputId": "c4300927-1896-49f0-f06c-a60bf4c35f3a"
      },
      "outputs": [
        {
          "data": {
            "text/plain": [
              "array([[69000,     6,     0,     1],\n",
              "       [35000,     3,     0,     1],\n",
              "       [57000,     5,     0,     1],\n",
              "       [22500,     2,     0,     1],\n",
              "       [46000,     4,     0,     1],\n",
              "       [59000,     5,     1,     0],\n",
              "       [52000,     5,     1,     0],\n",
              "       [72000,     6,     1,     0],\n",
              "       [91000,     8,     1,     0],\n",
              "       [67000,     6,     0,     0],\n",
              "       [83000,     7,     0,     0],\n",
              "       [79000,     7,     0,     0],\n",
              "       [59000,     5,     0,     0]], dtype=int64)"
            ]
          },
          "execution_count": 12,
          "metadata": {},
          "output_type": "execute_result"
        }
      ],
      "source": [
        "X"
      ]
    },
    {
      "cell_type": "code",
      "execution_count": null,
      "id": "d013f540",
      "metadata": {
        "id": "d013f540"
      },
      "outputs": [],
      "source": [
        "Y = df_dummies['Sell Price($)'].values"
      ]
    },
    {
      "cell_type": "code",
      "execution_count": null,
      "id": "402b6072",
      "metadata": {
        "id": "402b6072",
        "outputId": "23b606c9-19e4-48b5-9d27-e071c498f5f3"
      },
      "outputs": [
        {
          "data": {
            "text/plain": [
              "array([18000, 34000, 26100, 40000, 31500, 29400, 32000, 19300, 12000,\n",
              "       22000, 20000, 21000, 33000], dtype=int64)"
            ]
          },
          "execution_count": 14,
          "metadata": {},
          "output_type": "execute_result"
        }
      ],
      "source": [
        "Y"
      ]
    },
    {
      "cell_type": "code",
      "execution_count": null,
      "id": "78331be8",
      "metadata": {
        "id": "78331be8"
      },
      "outputs": [],
      "source": [
        "from sklearn.linear_model import LinearRegression"
      ]
    },
    {
      "cell_type": "code",
      "execution_count": null,
      "id": "5e16bee4",
      "metadata": {
        "id": "5e16bee4",
        "outputId": "8a9be3f2-4abd-46e2-ea8c-24850421c52c"
      },
      "outputs": [
        {
          "data": {
            "text/plain": [
              "0.9417050937281082"
            ]
          },
          "execution_count": 16,
          "metadata": {},
          "output_type": "execute_result"
        }
      ],
      "source": [
        "model = LinearRegression()\n",
        "model.fit(X,Y)\n",
        "model.score(X,Y)"
      ]
    },
    {
      "cell_type": "markdown",
      "id": "682dbc1a",
      "metadata": {
        "id": "682dbc1a"
      },
      "source": [
        "# Price of mercedez benz that is 4 yr old with mileage 45000"
      ]
    },
    {
      "cell_type": "code",
      "execution_count": null,
      "id": "6dff1b9d",
      "metadata": {
        "id": "6dff1b9d",
        "outputId": "544c05b5-6f79-4afc-e89f-3e5e7facde9d"
      },
      "outputs": [
        {
          "data": {
            "text/plain": [
              "array([36991.31721061])"
            ]
          },
          "execution_count": 17,
          "metadata": {},
          "output_type": "execute_result"
        }
      ],
      "source": [
        "model.predict([[45000,4,0,0]])"
      ]
    },
    {
      "cell_type": "markdown",
      "id": "943fe661",
      "metadata": {
        "id": "943fe661"
      },
      "source": [
        "#Price of BMW X5 that is 7 yr old with mileage 86000"
      ]
    },
    {
      "cell_type": "code",
      "execution_count": null,
      "id": "137cfa12",
      "metadata": {
        "id": "137cfa12",
        "outputId": "00c983bf-f9e8-4b04-ec59-e461cf13be45"
      },
      "outputs": [
        {
          "data": {
            "text/plain": [
              "array([11080.74313219])"
            ]
          },
          "execution_count": 18,
          "metadata": {},
          "output_type": "execute_result"
        }
      ],
      "source": [
        "model.predict([[86000,7,0,1]])"
      ]
    },
    {
      "cell_type": "code",
      "execution_count": null,
      "id": "3af42ea3",
      "metadata": {
        "id": "3af42ea3"
      },
      "outputs": [],
      "source": []
    }
  ],
  "metadata": {
    "kernelspec": {
      "display_name": "Python 3 (ipykernel)",
      "language": "python",
      "name": "python3"
    },
    "language_info": {
      "codemirror_mode": {
        "name": "ipython",
        "version": 3
      },
      "file_extension": ".py",
      "mimetype": "text/x-python",
      "name": "python",
      "nbconvert_exporter": "python",
      "pygments_lexer": "ipython3",
      "version": "3.10.2"
    },
    "colab": {
      "provenance": []
    }
  },
  "nbformat": 4,
  "nbformat_minor": 5
}