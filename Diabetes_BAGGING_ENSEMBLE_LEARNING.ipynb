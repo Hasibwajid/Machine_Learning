{
  "cells": [
    {
      "cell_type": "markdown",
      "id": "c10a17a1",
      "metadata": {
        "id": "c10a17a1"
      },
      "source": [
        "# PIMA INDIANS DIABETES DATASET"
      ]
    },
    {
      "cell_type": "code",
      "execution_count": null,
      "id": "e91d8bb9",
      "metadata": {
        "id": "e91d8bb9"
      },
      "outputs": [],
      "source": [
        "import pandas as pd\n",
        "import numpy as np\n",
        "import matplotlib.pyplot as plt"
      ]
    },
    {
      "cell_type": "code",
      "execution_count": null,
      "id": "ed3e21de",
      "metadata": {
        "id": "ed3e21de",
        "outputId": "d02bff04-4778-4247-a2e7-faa23f6c6b78"
      },
      "outputs": [
        {
          "data": {
            "text/html": [
              "<div>\n",
              "<style scoped>\n",
              "    .dataframe tbody tr th:only-of-type {\n",
              "        vertical-align: middle;\n",
              "    }\n",
              "\n",
              "    .dataframe tbody tr th {\n",
              "        vertical-align: top;\n",
              "    }\n",
              "\n",
              "    .dataframe thead th {\n",
              "        text-align: right;\n",
              "    }\n",
              "</style>\n",
              "<table border=\"1\" class=\"dataframe\">\n",
              "  <thead>\n",
              "    <tr style=\"text-align: right;\">\n",
              "      <th></th>\n",
              "      <th>Pregnancies</th>\n",
              "      <th>Glucose</th>\n",
              "      <th>BloodPressure</th>\n",
              "      <th>SkinThickness</th>\n",
              "      <th>Insulin</th>\n",
              "      <th>BMI</th>\n",
              "      <th>DiabetesPedigreeFunction</th>\n",
              "      <th>Age</th>\n",
              "      <th>Outcome</th>\n",
              "    </tr>\n",
              "  </thead>\n",
              "  <tbody>\n",
              "    <tr>\n",
              "      <th>count</th>\n",
              "      <td>768.000000</td>\n",
              "      <td>768.000000</td>\n",
              "      <td>768.000000</td>\n",
              "      <td>768.000000</td>\n",
              "      <td>768.000000</td>\n",
              "      <td>768.000000</td>\n",
              "      <td>768.000000</td>\n",
              "      <td>768.000000</td>\n",
              "      <td>768.000000</td>\n",
              "    </tr>\n",
              "    <tr>\n",
              "      <th>mean</th>\n",
              "      <td>3.845052</td>\n",
              "      <td>120.894531</td>\n",
              "      <td>69.105469</td>\n",
              "      <td>20.536458</td>\n",
              "      <td>79.799479</td>\n",
              "      <td>31.992578</td>\n",
              "      <td>0.471876</td>\n",
              "      <td>33.240885</td>\n",
              "      <td>0.348958</td>\n",
              "    </tr>\n",
              "    <tr>\n",
              "      <th>std</th>\n",
              "      <td>3.369578</td>\n",
              "      <td>31.972618</td>\n",
              "      <td>19.355807</td>\n",
              "      <td>15.952218</td>\n",
              "      <td>115.244002</td>\n",
              "      <td>7.884160</td>\n",
              "      <td>0.331329</td>\n",
              "      <td>11.760232</td>\n",
              "      <td>0.476951</td>\n",
              "    </tr>\n",
              "    <tr>\n",
              "      <th>min</th>\n",
              "      <td>0.000000</td>\n",
              "      <td>0.000000</td>\n",
              "      <td>0.000000</td>\n",
              "      <td>0.000000</td>\n",
              "      <td>0.000000</td>\n",
              "      <td>0.000000</td>\n",
              "      <td>0.078000</td>\n",
              "      <td>21.000000</td>\n",
              "      <td>0.000000</td>\n",
              "    </tr>\n",
              "    <tr>\n",
              "      <th>25%</th>\n",
              "      <td>1.000000</td>\n",
              "      <td>99.000000</td>\n",
              "      <td>62.000000</td>\n",
              "      <td>0.000000</td>\n",
              "      <td>0.000000</td>\n",
              "      <td>27.300000</td>\n",
              "      <td>0.243750</td>\n",
              "      <td>24.000000</td>\n",
              "      <td>0.000000</td>\n",
              "    </tr>\n",
              "    <tr>\n",
              "      <th>50%</th>\n",
              "      <td>3.000000</td>\n",
              "      <td>117.000000</td>\n",
              "      <td>72.000000</td>\n",
              "      <td>23.000000</td>\n",
              "      <td>30.500000</td>\n",
              "      <td>32.000000</td>\n",
              "      <td>0.372500</td>\n",
              "      <td>29.000000</td>\n",
              "      <td>0.000000</td>\n",
              "    </tr>\n",
              "    <tr>\n",
              "      <th>75%</th>\n",
              "      <td>6.000000</td>\n",
              "      <td>140.250000</td>\n",
              "      <td>80.000000</td>\n",
              "      <td>32.000000</td>\n",
              "      <td>127.250000</td>\n",
              "      <td>36.600000</td>\n",
              "      <td>0.626250</td>\n",
              "      <td>41.000000</td>\n",
              "      <td>1.000000</td>\n",
              "    </tr>\n",
              "    <tr>\n",
              "      <th>max</th>\n",
              "      <td>17.000000</td>\n",
              "      <td>199.000000</td>\n",
              "      <td>122.000000</td>\n",
              "      <td>99.000000</td>\n",
              "      <td>846.000000</td>\n",
              "      <td>67.100000</td>\n",
              "      <td>2.420000</td>\n",
              "      <td>81.000000</td>\n",
              "      <td>1.000000</td>\n",
              "    </tr>\n",
              "  </tbody>\n",
              "</table>\n",
              "</div>"
            ],
            "text/plain": [
              "       Pregnancies     Glucose  BloodPressure  SkinThickness     Insulin  \\\n",
              "count   768.000000  768.000000     768.000000     768.000000  768.000000   \n",
              "mean      3.845052  120.894531      69.105469      20.536458   79.799479   \n",
              "std       3.369578   31.972618      19.355807      15.952218  115.244002   \n",
              "min       0.000000    0.000000       0.000000       0.000000    0.000000   \n",
              "25%       1.000000   99.000000      62.000000       0.000000    0.000000   \n",
              "50%       3.000000  117.000000      72.000000      23.000000   30.500000   \n",
              "75%       6.000000  140.250000      80.000000      32.000000  127.250000   \n",
              "max      17.000000  199.000000     122.000000      99.000000  846.000000   \n",
              "\n",
              "              BMI  DiabetesPedigreeFunction         Age     Outcome  \n",
              "count  768.000000                768.000000  768.000000  768.000000  \n",
              "mean    31.992578                  0.471876   33.240885    0.348958  \n",
              "std      7.884160                  0.331329   11.760232    0.476951  \n",
              "min      0.000000                  0.078000   21.000000    0.000000  \n",
              "25%     27.300000                  0.243750   24.000000    0.000000  \n",
              "50%     32.000000                  0.372500   29.000000    0.000000  \n",
              "75%     36.600000                  0.626250   41.000000    1.000000  \n",
              "max     67.100000                  2.420000   81.000000    1.000000  "
            ]
          },
          "execution_count": 5,
          "metadata": {},
          "output_type": "execute_result"
        }
      ],
      "source": [
        "df = pd.read_csv('diabetes.csv')\n",
        "df.describe()"
      ]
    },
    {
      "cell_type": "markdown",
      "id": "91aecd68",
      "metadata": {
        "id": "91aecd68"
      },
      "source": [
        "# IS NULL"
      ]
    },
    {
      "cell_type": "code",
      "execution_count": null,
      "id": "823d313a",
      "metadata": {
        "id": "823d313a",
        "outputId": "03a83df9-3db4-43d3-c564-3fea3c73be12"
      },
      "outputs": [
        {
          "data": {
            "text/plain": [
              "Pregnancies                 0\n",
              "Glucose                     0\n",
              "BloodPressure               0\n",
              "SkinThickness               0\n",
              "Insulin                     0\n",
              "BMI                         0\n",
              "DiabetesPedigreeFunction    0\n",
              "Age                         0\n",
              "Outcome                     0\n",
              "dtype: int64"
            ]
          },
          "execution_count": 10,
          "metadata": {},
          "output_type": "execute_result"
        }
      ],
      "source": [
        "df.isnull().sum()"
      ]
    },
    {
      "cell_type": "markdown",
      "id": "72bf2932",
      "metadata": {
        "id": "72bf2932"
      },
      "source": [
        "# IS BALANCED"
      ]
    },
    {
      "cell_type": "code",
      "execution_count": null,
      "id": "d4066f97",
      "metadata": {
        "id": "d4066f97",
        "outputId": "2c70ed76-162f-4530-de80-39abd86bd2c5"
      },
      "outputs": [
        {
          "data": {
            "text/plain": [
              "0    500\n",
              "1    268\n",
              "Name: Outcome, dtype: int64"
            ]
          },
          "execution_count": 6,
          "metadata": {},
          "output_type": "execute_result"
        }
      ],
      "source": [
        "df.Outcome.value_counts()"
      ]
    },
    {
      "cell_type": "code",
      "execution_count": null,
      "id": "778baf09",
      "metadata": {
        "id": "778baf09",
        "outputId": "ccd97461-78d2-4e2c-f3ab-bccb3445ea03"
      },
      "outputs": [
        {
          "data": {
            "text/plain": [
              "0.536"
            ]
          },
          "execution_count": 7,
          "metadata": {},
          "output_type": "execute_result"
        }
      ],
      "source": [
        "268/500 #litterly balanced"
      ]
    },
    {
      "cell_type": "code",
      "execution_count": null,
      "id": "1b042c55",
      "metadata": {
        "id": "1b042c55"
      },
      "outputs": [],
      "source": [
        "X = df.drop('Outcome', axis = 'columns')\n",
        "Y = df.Outcome"
      ]
    },
    {
      "cell_type": "markdown",
      "id": "c43aa926",
      "metadata": {
        "id": "c43aa926"
      },
      "source": [
        "# SCALLING"
      ]
    },
    {
      "cell_type": "code",
      "execution_count": null,
      "id": "9286b5af",
      "metadata": {
        "id": "9286b5af",
        "outputId": "748b2892-aae3-4521-c075-296713c510c1"
      },
      "outputs": [
        {
          "data": {
            "text/plain": [
              "array([[ 0.63994726,  0.84832379,  0.14964075, ...,  0.20401277,\n",
              "         0.46849198,  1.4259954 ],\n",
              "       [-0.84488505, -1.12339636, -0.16054575, ..., -0.68442195,\n",
              "        -0.36506078, -0.19067191],\n",
              "       [ 1.23388019,  1.94372388, -0.26394125, ..., -1.10325546,\n",
              "         0.60439732, -0.10558415],\n",
              "       ...,\n",
              "       [ 0.3429808 ,  0.00330087,  0.14964075, ..., -0.73518964,\n",
              "        -0.68519336, -0.27575966],\n",
              "       [-0.84488505,  0.1597866 , -0.47073225, ..., -0.24020459,\n",
              "        -0.37110101,  1.17073215],\n",
              "       [-0.84488505, -0.8730192 ,  0.04624525, ..., -0.20212881,\n",
              "        -0.47378505, -0.87137393]])"
            ]
          },
          "execution_count": 19,
          "metadata": {},
          "output_type": "execute_result"
        }
      ],
      "source": [
        "from sklearn.preprocessing import StandardScaler\n",
        "scaler = StandardScaler()\n",
        "X_scaled =  scaler.fit_transform(X)\n",
        "X_scaled"
      ]
    },
    {
      "cell_type": "markdown",
      "id": "5d5f872a",
      "metadata": {
        "id": "5d5f872a"
      },
      "source": [
        "# TRAIN TEST SPLITTING"
      ]
    },
    {
      "cell_type": "code",
      "execution_count": null,
      "id": "0f49b3cb",
      "metadata": {
        "id": "0f49b3cb"
      },
      "outputs": [],
      "source": [
        "from sklearn.model_selection import train_test_split\n",
        "X_train,X_test,Y_train,Y_test = train_test_split(X_scaled,Y , random_state = 40, test_size =0.2, stratify = Y)\n",
        "#stratify balance the train and test data"
      ]
    },
    {
      "cell_type": "code",
      "execution_count": null,
      "id": "a90f27e2",
      "metadata": {
        "id": "a90f27e2",
        "outputId": "38369527-b35c-44a1-881d-fe26565a957b"
      },
      "outputs": [
        {
          "data": {
            "text/plain": [
              "(614, 8)"
            ]
          },
          "execution_count": 25,
          "metadata": {},
          "output_type": "execute_result"
        }
      ],
      "source": [
        "X_train.shape"
      ]
    },
    {
      "cell_type": "code",
      "execution_count": null,
      "id": "2b93089f",
      "metadata": {
        "id": "2b93089f",
        "outputId": "34f423a0-e6f8-48bc-811b-770f96e3c2cd"
      },
      "outputs": [
        {
          "data": {
            "text/plain": [
              "(154, 8)"
            ]
          },
          "execution_count": 26,
          "metadata": {},
          "output_type": "execute_result"
        }
      ],
      "source": [
        "X_test.shape"
      ]
    },
    {
      "cell_type": "code",
      "execution_count": null,
      "id": "b303172e",
      "metadata": {
        "id": "b303172e",
        "outputId": "b950b7c2-b684-40b4-d100-1c050a944c69"
      },
      "outputs": [
        {
          "data": {
            "text/plain": [
              "0    400\n",
              "1    214\n",
              "Name: Outcome, dtype: int64"
            ]
          },
          "execution_count": 27,
          "metadata": {},
          "output_type": "execute_result"
        }
      ],
      "source": [
        "Y_train.value_counts()"
      ]
    },
    {
      "cell_type": "code",
      "execution_count": null,
      "id": "7578607a",
      "metadata": {
        "id": "7578607a",
        "outputId": "6981e754-0489-4bf8-b5b5-8cca63cceec9"
      },
      "outputs": [
        {
          "data": {
            "text/plain": [
              "0.535"
            ]
          },
          "execution_count": 29,
          "metadata": {},
          "output_type": "execute_result"
        }
      ],
      "source": [
        "214/400 #ratio is same as above of 0s and 1s"
      ]
    },
    {
      "cell_type": "markdown",
      "id": "b68d9396",
      "metadata": {
        "id": "b68d9396"
      },
      "source": [
        "# STAND ALONE MODEL TRAINING"
      ]
    },
    {
      "cell_type": "code",
      "execution_count": null,
      "id": "f31851e6",
      "metadata": {
        "id": "f31851e6"
      },
      "outputs": [],
      "source": [
        "from sklearn.tree import DecisionTreeClassifier\n",
        "dtc = DecisionTreeClassifier()"
      ]
    },
    {
      "cell_type": "markdown",
      "id": "b903bac3",
      "metadata": {
        "id": "b903bac3"
      },
      "source": [
        "# cross_val_score OF DECISIONTREE"
      ]
    },
    {
      "cell_type": "code",
      "execution_count": null,
      "id": "3d088f7e",
      "metadata": {
        "id": "3d088f7e",
        "outputId": "220c871e-fdd2-4b09-fd8b-e342e05ea842"
      },
      "outputs": [
        {
          "data": {
            "text/plain": [
              "array([0.7012987 , 0.68181818, 0.68831169, 0.77777778, 0.73856209])"
            ]
          },
          "execution_count": 89,
          "metadata": {},
          "output_type": "execute_result"
        }
      ],
      "source": [
        "from sklearn.model_selection import cross_val_score, KFold\n",
        "\n",
        "scores = cross_val_score(DecisionTreeClassifier() , X, Y , cv = 5) #cv mean how many different score should be calculated by croos_val_score by training different models\n",
        "scores"
      ]
    },
    {
      "cell_type": "code",
      "execution_count": null,
      "id": "ac92348f",
      "metadata": {
        "id": "ac92348f",
        "outputId": "20efa691-f2c9-4e4c-ba87-c22337d5a830"
      },
      "outputs": [
        {
          "data": {
            "text/plain": [
              "0.7175536881419233"
            ]
          },
          "execution_count": 90,
          "metadata": {},
          "output_type": "execute_result"
        }
      ],
      "source": [
        "scores.mean()"
      ]
    },
    {
      "cell_type": "markdown",
      "id": "880ada23",
      "metadata": {
        "id": "880ada23"
      },
      "source": [
        "# BAGGING CLASSIFIER"
      ]
    },
    {
      "cell_type": "code",
      "execution_count": null,
      "id": "36c18ec7",
      "metadata": {
        "id": "36c18ec7"
      },
      "outputs": [],
      "source": [
        "from sklearn.ensemble import BaggingClassifier\n",
        "\n",
        "bag_classifier = BaggingClassifier(\n",
        "                base_estimator = DecisionTreeClassifier(),\n",
        "                n_estimators = 100,\n",
        "                max_samples = 0.8,\n",
        "                random_state = 0,\n",
        "                oob_score = True\n",
        ")\n",
        "\n",
        "#oob = out of bag samples\n"
      ]
    },
    {
      "cell_type": "code",
      "execution_count": null,
      "id": "fd8229cc",
      "metadata": {
        "id": "fd8229cc",
        "outputId": "3b626390-c2b8-4415-8278-683cfcd341a3"
      },
      "outputs": [
        {
          "data": {
            "text/plain": [
              "0.745928338762215"
            ]
          },
          "execution_count": 92,
          "metadata": {},
          "output_type": "execute_result"
        }
      ],
      "source": [
        "bag_classifier.fit(X_train,Y_train)\n",
        "bag_classifier.oob_score_"
      ]
    },
    {
      "cell_type": "code",
      "execution_count": null,
      "id": "cf3f3e7e",
      "metadata": {
        "id": "cf3f3e7e",
        "outputId": "66826c2c-521e-44fd-c8a5-65953435579f"
      },
      "outputs": [
        {
          "data": {
            "text/plain": [
              "0.7532467532467533"
            ]
          },
          "execution_count": 93,
          "metadata": {},
          "output_type": "execute_result"
        }
      ],
      "source": [
        "bag_classifier.score(X_test,Y_test)"
      ]
    },
    {
      "cell_type": "markdown",
      "id": "d4fb5a4b",
      "metadata": {
        "id": "d4fb5a4b"
      },
      "source": [
        "# cross_val_score OF BAGING CLASSIFIER MODEL"
      ]
    },
    {
      "cell_type": "code",
      "execution_count": null,
      "id": "98d9b265",
      "metadata": {
        "id": "98d9b265",
        "outputId": "cdba48e1-90df-46ca-9c79-84b30926831a"
      },
      "outputs": [
        {
          "data": {
            "text/plain": [
              "0.7578728461081402"
            ]
          },
          "execution_count": 94,
          "metadata": {},
          "output_type": "execute_result"
        }
      ],
      "source": [
        "scores_bag = cross_val_score(bag_classifier, X,Y, cv = 5)\n",
        "scores_bag.mean()"
      ]
    },
    {
      "cell_type": "markdown",
      "id": "d0dfd814",
      "metadata": {
        "id": "d0dfd814"
      },
      "source": [
        "# RANDOM FOREST CLASSIFIER IN BAGGING"
      ]
    },
    {
      "cell_type": "code",
      "execution_count": null,
      "id": "4325a90b",
      "metadata": {
        "id": "4325a90b",
        "outputId": "03cd6467-6b75-4ea9-898b-dd699b07adde"
      },
      "outputs": [
        {
          "data": {
            "text/plain": [
              "0.7644003055767762"
            ]
          },
          "execution_count": 103,
          "metadata": {},
          "output_type": "execute_result"
        }
      ],
      "source": [
        "from sklearn.ensemble import RandomForestClassifier\n",
        "\n",
        "score_rf = cross_val_score(RandomForestClassifier(n_estimators = 50), X , Y , cv =5)\n",
        "\n",
        "score_rf.mean()\n",
        "# A score is little better than Decision tree classifier"
      ]
    }
  ],
  "metadata": {
    "kernelspec": {
      "display_name": "Python 3 (ipykernel)",
      "language": "python",
      "name": "python3"
    },
    "language_info": {
      "codemirror_mode": {
        "name": "ipython",
        "version": 3
      },
      "file_extension": ".py",
      "mimetype": "text/x-python",
      "name": "python",
      "nbconvert_exporter": "python",
      "pygments_lexer": "ipython3",
      "version": "3.10.2"
    },
    "colab": {
      "provenance": []
    }
  },
  "nbformat": 4,
  "nbformat_minor": 5
}