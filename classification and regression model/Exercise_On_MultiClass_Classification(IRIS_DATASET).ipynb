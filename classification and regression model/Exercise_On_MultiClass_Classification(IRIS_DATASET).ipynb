{
  "cells": [
    {
      "cell_type": "code",
      "execution_count": null,
      "id": "43f28a02",
      "metadata": {
        "id": "43f28a02"
      },
      "outputs": [],
      "source": [
        "import pandas as pd\n",
        "from sklearn import datasets"
      ]
    },
    {
      "cell_type": "code",
      "execution_count": null,
      "id": "7dbfd73e",
      "metadata": {
        "id": "7dbfd73e"
      },
      "outputs": [],
      "source": [
        "iris= datasets.load_iris()"
      ]
    },
    {
      "cell_type": "code",
      "execution_count": null,
      "id": "612f260e",
      "metadata": {
        "id": "612f260e",
        "outputId": "537ce2ab-bc2c-41bf-ca12-b1d3a61fccdf"
      },
      "outputs": [
        {
          "data": {
            "text/plain": [
              "array([0, 0, 0, 0, 0, 0, 0, 0, 0, 0, 0, 0, 0, 0, 0, 0, 0, 0, 0, 0, 0, 0,\n",
              "       0, 0, 0, 0, 0, 0, 0, 0, 0, 0, 0, 0, 0, 0, 0, 0, 0, 0, 0, 0, 0, 0,\n",
              "       0, 0, 0, 0, 0, 0, 1, 1, 1, 1, 1, 1, 1, 1, 1, 1, 1, 1, 1, 1, 1, 1,\n",
              "       1, 1, 1, 1, 1, 1, 1, 1, 1, 1, 1, 1, 1, 1, 1, 1, 1, 1, 1, 1, 1, 1,\n",
              "       1, 1, 1, 1, 1, 1, 1, 1, 1, 1, 1, 1, 2, 2, 2, 2, 2, 2, 2, 2, 2, 2,\n",
              "       2, 2, 2, 2, 2, 2, 2, 2, 2, 2, 2, 2, 2, 2, 2, 2, 2, 2, 2, 2, 2, 2,\n",
              "       2, 2, 2, 2, 2, 2, 2, 2, 2, 2, 2, 2, 2, 2, 2, 2, 2, 2])"
            ]
          },
          "execution_count": 4,
          "metadata": {},
          "output_type": "execute_result"
        }
      ],
      "source": [
        "# iris.DESCR\n",
        "iris.target"
      ]
    },
    {
      "cell_type": "code",
      "execution_count": null,
      "id": "962536be",
      "metadata": {
        "id": "962536be"
      },
      "outputs": [],
      "source": [
        "from sklearn.model_selection import train_test_split"
      ]
    },
    {
      "cell_type": "code",
      "execution_count": null,
      "id": "193faa8c",
      "metadata": {
        "id": "193faa8c"
      },
      "outputs": [],
      "source": [
        "X_train,X_test,Y_train,Y_test = train_test_split(iris.data,iris.target, test_size = 0.2, random_state = 44)"
      ]
    },
    {
      "cell_type": "code",
      "execution_count": null,
      "id": "95f31e77",
      "metadata": {
        "id": "95f31e77",
        "outputId": "4cd99c97-0d13-4a86-9f6e-74fafb763dfe"
      },
      "outputs": [
        {
          "data": {
            "text/plain": [
              "120"
            ]
          },
          "execution_count": 26,
          "metadata": {},
          "output_type": "execute_result"
        }
      ],
      "source": [
        "len(X_train)"
      ]
    },
    {
      "cell_type": "code",
      "execution_count": null,
      "id": "86f9d289",
      "metadata": {
        "id": "86f9d289",
        "outputId": "d64e2843-248c-41d7-c8b5-2200bc54e6ac"
      },
      "outputs": [
        {
          "data": {
            "text/plain": [
              "30"
            ]
          },
          "execution_count": 27,
          "metadata": {},
          "output_type": "execute_result"
        }
      ],
      "source": [
        "len(X_test)"
      ]
    },
    {
      "cell_type": "code",
      "execution_count": null,
      "id": "94597ed7",
      "metadata": {
        "id": "94597ed7"
      },
      "outputs": [],
      "source": [
        "from sklearn.linear_model import LogisticRegression"
      ]
    },
    {
      "cell_type": "code",
      "execution_count": null,
      "id": "94b33f91",
      "metadata": {
        "id": "94b33f91"
      },
      "outputs": [],
      "source": [
        "lr = LogisticRegression()"
      ]
    },
    {
      "cell_type": "code",
      "execution_count": null,
      "id": "3271f97a",
      "metadata": {
        "id": "3271f97a",
        "outputId": "7c622764-32f5-4ee2-cad2-feaebb51d909"
      },
      "outputs": [
        {
          "name": "stderr",
          "output_type": "stream",
          "text": [
            "C:\\Users\\CURIOUS\\AppData\\Local\\Programs\\Python\\Python310\\lib\\site-packages\\sklearn\\linear_model\\_logistic.py:814: ConvergenceWarning: lbfgs failed to converge (status=1):\n",
            "STOP: TOTAL NO. of ITERATIONS REACHED LIMIT.\n",
            "\n",
            "Increase the number of iterations (max_iter) or scale the data as shown in:\n",
            "    https://scikit-learn.org/stable/modules/preprocessing.html\n",
            "Please also refer to the documentation for alternative solver options:\n",
            "    https://scikit-learn.org/stable/modules/linear_model.html#logistic-regression\n",
            "  n_iter_i = _check_optimize_result(\n"
          ]
        },
        {
          "data": {
            "text/plain": [
              "LogisticRegression()"
            ]
          },
          "execution_count": 30,
          "metadata": {},
          "output_type": "execute_result"
        }
      ],
      "source": [
        "lr.fit(X_train,Y_train)"
      ]
    },
    {
      "cell_type": "code",
      "execution_count": null,
      "id": "c887f11d",
      "metadata": {
        "id": "c887f11d"
      },
      "outputs": [],
      "source": [
        "Y_predicted = lr.predict(X_test)"
      ]
    },
    {
      "cell_type": "code",
      "execution_count": null,
      "id": "25fa6c32",
      "metadata": {
        "id": "25fa6c32",
        "outputId": "fa3e0820-83bb-4cc2-b723-01ca9b28c6aa"
      },
      "outputs": [
        {
          "data": {
            "text/plain": [
              "array([2, 0, 1, 1, 2, 0, 2, 2, 2, 1, 0, 1, 0, 2, 0, 0, 2, 1, 0, 2, 1, 2,\n",
              "       2, 1, 2, 2, 0, 1, 0, 1])"
            ]
          },
          "execution_count": 42,
          "metadata": {},
          "output_type": "execute_result"
        }
      ],
      "source": [
        "Y_test"
      ]
    },
    {
      "cell_type": "code",
      "execution_count": null,
      "id": "9d4d920f",
      "metadata": {
        "id": "9d4d920f",
        "outputId": "040e74a1-3567-4721-8e05-3649b69c947e"
      },
      "outputs": [
        {
          "data": {
            "text/plain": [
              "0.9666666666666667"
            ]
          },
          "execution_count": 43,
          "metadata": {},
          "output_type": "execute_result"
        }
      ],
      "source": [
        "lr.score(X_test,Y_test)"
      ]
    },
    {
      "cell_type": "markdown",
      "id": "90fa22ae",
      "metadata": {
        "id": "90fa22ae"
      },
      "source": [
        "# CONFUSION MATRIX"
      ]
    },
    {
      "cell_type": "code",
      "execution_count": null,
      "id": "f65af34b",
      "metadata": {
        "id": "f65af34b"
      },
      "outputs": [],
      "source": [
        "from sklearn.metrics import confusion_matrix"
      ]
    },
    {
      "cell_type": "code",
      "execution_count": null,
      "id": "e0bd455d",
      "metadata": {
        "id": "e0bd455d"
      },
      "outputs": [],
      "source": [
        "cm = confusion_matrix(Y_test,Y_predicted)"
      ]
    },
    {
      "cell_type": "code",
      "execution_count": null,
      "id": "a406adaf",
      "metadata": {
        "id": "a406adaf",
        "outputId": "c6b2e2c2-484b-4041-a390-e51d87d04e9c"
      },
      "outputs": [
        {
          "data": {
            "text/plain": [
              "array([[ 9,  0,  0],\n",
              "       [ 0,  9,  0],\n",
              "       [ 0,  1, 11]], dtype=int64)"
            ]
          },
          "execution_count": 46,
          "metadata": {},
          "output_type": "execute_result"
        }
      ],
      "source": [
        "cm"
      ]
    },
    {
      "cell_type": "code",
      "execution_count": null,
      "id": "d3ae3531",
      "metadata": {
        "scrolled": true,
        "id": "d3ae3531"
      },
      "outputs": [],
      "source": [
        "import matplotlib.pyplot as plt\n",
        "import seaborn as sn\n"
      ]
    },
    {
      "cell_type": "code",
      "execution_count": null,
      "id": "a41c2518",
      "metadata": {
        "id": "a41c2518",
        "outputId": "618edf2c-3e7e-4628-a5b4-8c43840bad6f"
      },
      "outputs": [
        {
          "data": {
            "text/plain": [
              "Text(69.0, 0.5, 'Truth')"
            ]
          },
          "execution_count": 51,
          "metadata": {},
          "output_type": "execute_result"
        },
        {
          "data": {
            "image/png": "[encoded data removed]",
            "text/plain": [
              "<Figure size 720x504 with 2 Axes>"
            ]
          },
          "metadata": {
            "needs_background": "light"
          },
          "output_type": "display_data"
        }
      ],
      "source": [
        "plt.figure(figsize = (10,7))\n",
        "sn.heatmap(cm, annot = True)\n",
        "plt.xlabel('predicted')\n",
        "plt.ylabel('Truth')"
      ]
    }
  ],
  "metadata": {
    "kernelspec": {
      "display_name": "Python 3 (ipykernel)",
      "language": "python",
      "name": "python3"
    },
    "language_info": {
      "codemirror_mode": {
        "name": "ipython",
        "version": 3
      },
      "file_extension": ".py",
      "mimetype": "text/x-python",
      "name": "python",
      "nbconvert_exporter": "python",
      "pygments_lexer": "ipython3",
      "version": "3.10.2"
    },
    "colab": {
      "provenance": []
    }
  },
  "nbformat": 4,
  "nbformat_minor": 5
}